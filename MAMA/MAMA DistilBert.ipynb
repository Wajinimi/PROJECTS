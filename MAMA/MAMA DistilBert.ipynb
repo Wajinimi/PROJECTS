{
 "cells": [
  {
   "cell_type": "markdown",
   "id": "424b2629-d2ef-406e-8f96-9517986fa433",
   "metadata": {},
   "source": [
    "Here i am still working on Traning MAMA v1. \n",
    "\n",
    "I have previously tried to train MAMA with my 8000 dataset right from the foundation but it kept overfitting\n",
    "\n",
    "So now, i am going to do Transfer Learning usinG DistilBERT since my current computational power is low. Since DistilBERT was specifically designed to \n",
    "\n",
    "be smaller, faster, and lighter than the original BERT. It has roughly 40% fewer parameters (66 million vs. BERT-base's 110 million, and still maintaince 97 percent of its performance) and is \n",
    "\n",
    "significantly faster for both training and inference (up to 60% faster). This means it will train much quicker on my laptop, and require less memory.\n",
    "\n",
    "Also, i am going to use DistilBERT Cased because i am going to be applying NER to my model later"
   ]
  },
  {
   "cell_type": "code",
   "execution_count": null,
   "id": "4e1cfe3d-8bcb-48a6-983a-36d5510ede4b",
   "metadata": {},
   "outputs": [],
   "source": []
  },
  {
   "cell_type": "code",
   "execution_count": 7,
   "id": "cb49aaf1-3fb5-4a5a-b081-2ec0d657b396",
   "metadata": {},
   "outputs": [],
   "source": [
    "\n",
    "from transformers import DistilBertModel, DistilBertTokenizer\n",
    "import pandas as pd\n",
    "from sklearn.preprocessing import LabelEncoder\n",
    "import string\n",
    "import tensorflow as tf\n",
    "from transformers import TFDistilBertForSequenceClassification\n",
    "from tensorflow.keras.optimizers import Adam\n",
    "from tensorflow.keras.losses import SparseCategoricalCrossentropy\n",
    "import matplotlib.pyplot as plt"
   ]
  },
  {
   "cell_type": "code",
   "execution_count": null,
   "id": "c7ceb8c6-4ed8-4e11-9691-ee9326101fa1",
   "metadata": {},
   "outputs": [],
   "source": []
  },
  {
   "cell_type": "code",
   "execution_count": 8,
   "id": "5d460f91-e9d2-4122-899c-8f238752c6c1",
   "metadata": {},
   "outputs": [],
   "source": [
    "df = pd.read_csv(r\"C:\\Users\\WAJI\\OneDrive\\projects\\MAMA\\MAMA v1 STEP 2\\MAMADATA.csv\")   #Loading my dataset\n"
   ]
  },
  {
   "cell_type": "code",
   "execution_count": 9,
   "id": "80396880-7aa0-4af7-be24-a036f7acd415",
   "metadata": {},
   "outputs": [
    {
     "data": {
      "text/plain": [
       "0        False\n",
       "1        False\n",
       "2        False\n",
       "3        False\n",
       "4        False\n",
       "         ...  \n",
       "16157    False\n",
       "16158    False\n",
       "16159    False\n",
       "16160    False\n",
       "16161    False\n",
       "Name: Statement, Length: 16162, dtype: bool"
      ]
     },
     "execution_count": 9,
     "metadata": {},
     "output_type": "execute_result"
    }
   ],
   "source": [
    "df.head()\n",
    "df[\"Statement\"].isna()"
   ]
  },
  {
   "cell_type": "code",
   "execution_count": null,
   "id": "c904e324-96c6-47da-992e-33b4a4705055",
   "metadata": {},
   "outputs": [],
   "source": [
    "\n"
   ]
  },
  {
   "cell_type": "markdown",
   "id": "057d3377-add2-406a-9308-1588ff5c6003",
   "metadata": {},
   "source": [
    "DATA CLEANING"
   ]
  },
  {
   "cell_type": "code",
   "execution_count": 10,
   "id": "7d0da736-6f9d-48da-a0be-a96c222bbf07",
   "metadata": {},
   "outputs": [
    {
     "data": {
      "text/plain": [
       "Intent\n",
       "Comfort        1181\n",
       "Pride          1165\n",
       "Observation    1048\n",
       "Emotion        1041\n",
       "Distress       1035\n",
       "Imitation      1018\n",
       "Command        1011\n",
       "Need           1009\n",
       "Desire         1007\n",
       "Possession     1004\n",
       "Complaint       999\n",
       "Attention       995\n",
       "Excitement      989\n",
       "Refusal         922\n",
       "Question        914\n",
       "Gratitude       824\n",
       "Name: count, dtype: int64"
      ]
     },
     "execution_count": 10,
     "metadata": {},
     "output_type": "execute_result"
    }
   ],
   "source": [
    "df[\"Statement\"] = df[\"Statement\"].str.lower()                                             #Turning phrases into lowercase\n",
    "df['Statement'] = df['Statement'].astype(str).apply(lambda x: x.translate(str.maketrans('', '', string.punctuation)))  #Removing punctuations\n",
    "\n",
    "df[\"Intent\"].value_counts()\n",
    "\n",
    "\n",
    "df.loc[df[\"Intent\"] == \" Excitement\", \"Intent\"] = \"Excitement\"\n",
    "df.loc[df[\"Intent\"] == \" Complaint\", \"Intent\"] = \"Complaint\"\n",
    "df.loc[df[\"Intent\"] == \"Inmitation\", \"Intent\"] = \"Imitation\"\n",
    "df.loc[df[\"Intent\"] == \"Reqeust\", \"Intent\"] = \"Question\"\n",
    "df.loc[df[\"Intent\"] == \"Possesion\", \"Intent\"] = \"Possession\"\n",
    "df.loc[df[\"Intent\"] == \"Excitemenmt\", \"Intent\"] = \"Excitement\"\n",
    "df.loc[df[\"Intent\"] == \"Obsevation\", \"Intent\"] = \"Observation\"\n",
    "df.loc[df[\"Intent\"] == \"observation\", \"Intent\"] = \"Observation\"\n",
    "df.loc[df[\"Intent\"] == \"Inquiry\", \"Intent\"] = \"Question\"\n",
    "df.loc[df[\"Intent\"] == \"Obvservation\", \"Intent\"] = \"Observation\"\n",
    "df.loc[df[\"Intent\"] == \"Accomplishment\", \"Intent\"] = \"Pride\"\n",
    "df.loc[df[\"Intent\"] == \"complaint\", \"Intent\"] = \"Complaint\"\n",
    "df.loc[df[\"Intent\"] == \"attention\", \"Intent\"] = \"Attention\"\n",
    "df.loc[df[\"Intent\"] == \"inquiry\", \"Intent\"] = \"Question\"\n",
    "df.loc[df[\"Intent\"] == \"pride\", \"Intent\"] = \"Pride\"\n",
    "df.loc[df[\"Intent\"] == \"assertion\", \"Intent\"] = \"Command\"\n",
    "df.loc[df[\"Intent\"] == \"Affection\", \"Intent\"] = \"Comfort\"\n",
    "df.loc[df[\"Intent\"] == \"Suggestion\", \"Intent\"] = \"Observation\"\n",
    "df.loc[df[\"Intent\"] == \"frustration\", \"Intent\"] = \"Emotion\"\n",
    "df.loc[df[\"Intent\"] == \"Reaction\", \"Intent\"] = \"Observation\"\n",
    "df.loc[df[\"Intent\"] == \"question\", \"Intent\"] = \"Question\"\n",
    "df.loc[df[\"Intent\"] == \"command\", \"Intent\"] = \"Command\"\n",
    "df.loc[df[\"Intent\"] == \"emotion\", \"Intent\"] = \"Emotion\"\n",
    "df.loc[df[\"Intent\"] == \"request\", \"Intent\"] = \"Request\"\n",
    "df.loc[df[\"Intent\"] == \"Dislike\", \"Intent\"] = \"Complaint\"\n",
    "df.loc[df[\"Intent\"] == \"Fear\", \"Intent\"] = \"Distress\"\n",
    "df.loc[df[\"Intent\"] == \"imitation\", \"Intent\"] = \"Imitation\"\n",
    "df.loc[df[\"Intent\"] == \"reaction\", \"Intent\"] = \"Observation\"\n",
    "df.loc[df[\"Intent\"] == \"need\", \"Intent\"] = \"Need\"\n",
    "df.loc[df[\"Intent\"] == \"Frustration\", \"Intent\"] = \"Emotion\"\n",
    "df.loc[df[\"Intent\"] == \"Hurt\", \"Intent\"] = \"Distress\"\n",
    "df.loc[df[\"Intent\"] == \"Assistance\", \"Intent\"] = \"Question\"\n",
    "df.loc[df[\"Intent\"] == \"Intent\", \"Intent\"] = \"Distress\"\n",
    "df.loc[df[\"Intent\"] == \"Request\", \"Intent\"] = \"Question\"\n",
    "\n",
    "df.loc[df[\"Intent\"] == \"Pcitement!\", \"Intent\"] = \"Excitement\"\n",
    "df.loc[df[\"Intent\"] == \"Pitation\", \"Intent\"] = \"Imitation\"\n",
    "df.loc[df[\"Intent\"] == \"Cmand\", \"Intent\"] = \"Command\"\n",
    "df.loc[df[\"Intent\"] == \"Excitement!\", \"Intent\"] = \"Excitement\"\n",
    "\n",
    "\n",
    "\n",
    "\n",
    "df[\"Intent\"].value_counts()\n",
    "\n",
    "\n",
    "\n",
    "\n",
    "\n",
    "\n",
    "\n"
   ]
  },
  {
   "cell_type": "code",
   "execution_count": 11,
   "id": "1b83917d-2708-43b5-96b4-9b677e549d20",
   "metadata": {},
   "outputs": [
    {
     "name": "stdout",
     "output_type": "stream",
     "text": [
      "Intent Label Mapping: {'Attention': np.int64(0), 'Comfort': np.int64(1), 'Command': np.int64(2), 'Complaint': np.int64(3), 'Desire': np.int64(4), 'Distress': np.int64(5), 'Emotion': np.int64(6), 'Excitement': np.int64(7), 'Gratitude': np.int64(8), 'Imitation': np.int64(9), 'Need': np.int64(10), 'Observation': np.int64(11), 'Possession': np.int64(12), 'Pride': np.int64(13), 'Question': np.int64(14), 'Refusal': np.int64(15)}\n"
     ]
    }
   ],
   "source": [
    "#Now i am going to label \"Intent\" category so that each category is represented with a label/Number\n",
    "\n",
    "label_encoder =LabelEncoder()\n",
    "df[\"Label\"] = label_encoder.fit_transform(df[\"Intent\"])\n",
    "\n",
    "\n",
    "#Now i am going to check the label mapping\n",
    "intent_mapping = dict(zip(label_encoder.classes_, label_encoder.transform(label_encoder.classes_)))\n",
    "print(\"Intent Label Mapping:\", intent_mapping)"
   ]
  },
  {
   "cell_type": "markdown",
   "id": "c574182d-6827-43bb-a43a-99a590c9135f",
   "metadata": {},
   "source": [
    "Now i know that:\n",
    "\n",
    "Attention takes 0\n",
    "\n",
    "Comfort 1\n",
    "\n",
    "Command 2\n",
    "\n",
    "Complaint 3\n",
    "\n",
    "Desire 4\n",
    "\n",
    "Distress 5\n",
    "\n",
    "Emotion 6\n",
    "\n",
    "Excitement 7\n",
    "\n",
    "Gratitude 8\n",
    "\n",
    "Imitation 9\n",
    "\n",
    "Need 10\n",
    "\n",
    "Observation 11\n",
    "\n",
    "Possession 12\n",
    "\n",
    "Pride 13\n",
    "\n",
    "Question 14\n",
    "\n",
    "Refusal 15\n"
   ]
  },
  {
   "cell_type": "code",
   "execution_count": null,
   "id": "4bd0397b-c314-4218-8687-ee1661dc88b8",
   "metadata": {},
   "outputs": [],
   "source": [
    "\n",
    "\n"
   ]
  },
  {
   "cell_type": "markdown",
   "id": "ab12d9b0-54e4-4b99-87f0-1a832e6cd26f",
   "metadata": {},
   "source": [
    "USING TRANSFORMER NOW\n"
   ]
  },
  {
   "cell_type": "code",
   "execution_count": 12,
   "id": "740ba398-5bb1-45be-aa64-712b2e8713c3",
   "metadata": {},
   "outputs": [],
   "source": [
    "tokenizer = DistilBertTokenizer.from_pretrained(\"distilbert-base-cased\")\n",
    "\n",
    "#Tokenzing all statements\n",
    "encodings = tokenizer(\n",
    "    df[\"Statement\"].tolist(),       #Converts the column statements to a list of sentences\n",
    "    truncation = True,              #Ensure long sentences are cut off at the 64th word\n",
    "    padding = True,                 #Helps me adds oadding so shorter sentences all have the same length\n",
    "    max_length = 64,                #Setting my truncating to 64\n",
    "    return_tensors = \"tf\"           #Helps me convert the data into friendly tensorflow format\n",
    ")\n",
    "\n",
    "#Now conveting labels to tensors\n",
    "labels = tf.convert_to_tensor(df[\"Label\"].tolist())\n"
   ]
  },
  {
   "cell_type": "code",
   "execution_count": null,
   "id": "358a407d-5703-49f0-a4db-0379587a9fb3",
   "metadata": {},
   "outputs": [],
   "source": [
    "\n",
    "\n"
   ]
  },
  {
   "cell_type": "markdown",
   "id": "f7663738-3cb8-412e-ac14-228b035a0595",
   "metadata": {},
   "source": [
    "Now, i am going to Prepare my dataset for training by converting Tokenized inputs and labels into what Tensorflow can work with\n",
    "\n",
    "tf.data.Dataset\n"
   ]
  },
  {
   "cell_type": "code",
   "execution_count": 13,
   "id": "358e855f-d721-4bd9-8033-395b5425ffbe",
   "metadata": {},
   "outputs": [],
   "source": [
    "#Creating a tensorflow dataset\n",
    "\n",
    "dataset = tf.data.Dataset.from_tensor_slices((\n",
    "    dict(encodings), labels\n",
    "))\n",
    "\n",
    "dataset = dataset.shuffle(1000, seed = 42)   #Here i am shuffling every 1000 data before training so the model doesnt learn the patter due to arrangement\n",
    "train_size = int(0.8 * len(dataset))         #Here  i want to use 80 percent of my data for training\n",
    "\n",
    "\n",
    "train_dataset = dataset.take(train_size).batch(16)  #Takes 80 percent of the data for training\n",
    "val_dataset = dataset.skip(train_size).batch(16)    #Then skip to the last 20 percent fpr validation\n",
    "\n",
    "\n",
    "#from_tensor_slices takes 2 inputs:\n",
    "#Encodings are tokenized words from DistilBert\n",
    "#Labels are the coreect answers for each sentence in my dataset\n",
    "#dict(encodings) converts tokenized sentences into dictionary making it usable for tensorflow\n",
    "#batch(16), instead of training 1 example at a time, it takes 16 at once to save time during training\n"
   ]
  },
  {
   "cell_type": "code",
   "execution_count": null,
   "id": "9ba6f374-ce19-4c4c-878b-99a816ba2eb8",
   "metadata": {},
   "outputs": [],
   "source": [
    "\n",
    "\n"
   ]
  },
  {
   "cell_type": "code",
   "execution_count": null,
   "id": "b59d0e63-3075-4b16-b320-edf7723bdf50",
   "metadata": {},
   "outputs": [],
   "source": [
    "NOW I AM GOING TO LOAD AND CONFIGURE DistilBert MODEL FOR CLASSIFICATION\n"
   ]
  },
  {
   "cell_type": "code",
   "execution_count": 14,
   "id": "2cf4e2fd-7ad7-4eb4-b187-3acdc688435d",
   "metadata": {},
   "outputs": [
    {
     "name": "stdout",
     "output_type": "stream",
     "text": [
      "{'Command': 0, 'Comfort': 1, 'Complaint': 2, 'Imitation': 3, 'Need': 4, 'Gratitude': 5, 'Emotion': 6, 'Refusal': 7, 'Possession': 8, 'Pride': 9, 'Attention': 10, 'Desire': 11, 'Distress': 12, 'Observation': 13, 'Excitement': 14, 'Question': 15}\n",
      "{0: 'Command', 1: 'Comfort', 2: 'Complaint', 3: 'Imitation', 4: 'Need', 5: 'Gratitude', 6: 'Emotion', 7: 'Refusal', 8: 'Possession', 9: 'Pride', 10: 'Attention', 11: 'Desire', 12: 'Distress', 13: 'Observation', 14: 'Excitement', 15: 'Question'}\n"
     ]
    }
   ],
   "source": [
    "labels = df[\"Intent\"].unique()\n",
    "\n",
    "#Creating label2id and id2label dictionaries\n",
    "label2id = {label: idx for idx, label in enumerate(labels)}\n",
    "id2label = {idx: label for label, idx in label2id.items()}\n",
    "\n",
    "print(label2id)\n",
    "print(id2label)\n"
   ]
  },
  {
   "cell_type": "code",
   "execution_count": 15,
   "id": "fb2bc74b-0755-49eb-8ecd-4ad72d9302b9",
   "metadata": {},
   "outputs": [
    {
     "name": "stdout",
     "output_type": "stream",
     "text": [
      "WARNING:tensorflow:From C:\\Users\\WAJI\\AppData\\Local\\Programs\\Python\\Python312\\Lib\\site-packages\\tf_keras\\src\\backend.py:873: The name tf.get_default_graph is deprecated. Please use tf.compat.v1.get_default_graph instead.\n",
      "\n"
     ]
    },
    {
     "name": "stderr",
     "output_type": "stream",
     "text": [
      "Some weights of the PyTorch model were not used when initializing the TF 2.0 model TFDistilBertForSequenceClassification: ['vocab_layer_norm.weight', 'vocab_projector.bias', 'vocab_layer_norm.bias', 'vocab_transform.bias', 'vocab_transform.weight']\n",
      "- This IS expected if you are initializing TFDistilBertForSequenceClassification from a PyTorch model trained on another task or with another architecture (e.g. initializing a TFBertForSequenceClassification model from a BertForPreTraining model).\n",
      "- This IS NOT expected if you are initializing TFDistilBertForSequenceClassification from a PyTorch model that you expect to be exactly identical (e.g. initializing a TFBertForSequenceClassification model from a BertForSequenceClassification model).\n",
      "Some weights or buffers of the TF 2.0 model TFDistilBertForSequenceClassification were not initialized from the PyTorch model and are newly initialized: ['pre_classifier.weight', 'pre_classifier.bias', 'classifier.weight', 'classifier.bias']\n",
      "You should probably TRAIN this model on a down-stream task to be able to use it for predictions and inference.\n"
     ]
    },
    {
     "data": {
      "text/plain": [
       "'\\nI am using those because Hugging Face models expect a label2id dictionary and internally handle label mapping.\\nThis is more explicit and controllable, which is important when you want the output labels to match  real-world \\nuse case (like MAMA knowing what “Command” means and not just the numerical representation).\\n'"
      ]
     },
     "execution_count": 15,
     "metadata": {},
     "output_type": "execute_result"
    }
   ],
   "source": [
    "\n",
    "# Number of intent labels (from your label mapping)\n",
    "num_labels = len(label2id)\n",
    "\n",
    "# Load the DistilBERT model for classification\n",
    "model = TFDistilBertForSequenceClassification.from_pretrained(\n",
    "    'distilbert-base-cased',\n",
    "    num_labels=num_labels,\n",
    "    id2label=id2label,\n",
    "    label2id=label2id\n",
    ")\n",
    "\n",
    "#label2id  works just like LabelEncoder\n",
    "#id2label is the reverse of my coversion which usually creates awareness of my custom labels for my model \n",
    "\n",
    "\"\"\"\n",
    "I am using those because Hugging Face models expect a label2id dictionary and internally handle label mapping.\n",
    "This is more explicit and controllable, which is important when you want the output labels to match  real-world \n",
    "use case (like MAMA knowing what “Command” means and not just the numerical representation).\n",
    "\"\"\""
   ]
  },
  {
   "cell_type": "code",
   "execution_count": null,
   "id": "a6ca9d09-9d9e-4862-b3b5-f51f9f9b8ebb",
   "metadata": {},
   "outputs": [],
   "source": [
    "\n",
    "\n"
   ]
  },
  {
   "cell_type": "markdown",
   "id": "da13a1ea-7e2d-4c0e-af58-83b5362e209a",
   "metadata": {},
   "source": [
    "COMPILING THE MODEL"
   ]
  },
  {
   "cell_type": "code",
   "execution_count": 16,
   "id": "970840f8-bb88-4254-a933-3d4bd59f4ff4",
   "metadata": {},
   "outputs": [],
   "source": [
    "optimizer = tf.optimizers.Adam(learning_rate=0.0001)\n",
    "\n",
    "model.compile(\n",
    "    optimizer=optimizer,\n",
    "    loss=SparseCategoricalCrossentropy(from_logits=True),\n",
    "    metrics=[\"accuracy\"]\n",
    ")\n",
    "\n",
    "\n",
    "#I included from_logits = True because the model final layers gives me raw score and not probabilities\n",
    "#That tells Tensorflow to help me handle it correctly"
   ]
  },
  {
   "cell_type": "code",
   "execution_count": null,
   "id": "1b387c09-fcff-4425-b448-1bee17e8fbd3",
   "metadata": {},
   "outputs": [],
   "source": [
    "\n"
   ]
  },
  {
   "cell_type": "markdown",
   "id": "f4308d11-a38a-4807-9c04-99371914e6c6",
   "metadata": {},
   "source": [
    "TRANING THE MODEL"
   ]
  },
  {
   "cell_type": "code",
   "execution_count": 17,
   "id": "ce344e26-7a01-40eb-b1ab-76cdd7f44c2a",
   "metadata": {},
   "outputs": [
    {
     "name": "stdout",
     "output_type": "stream",
     "text": [
      "Epoch 1/3\n",
      "WARNING:tensorflow:From C:\\Users\\WAJI\\AppData\\Local\\Programs\\Python\\Python312\\Lib\\site-packages\\tf_keras\\src\\utils\\tf_utils.py:492: The name tf.ragged.RaggedTensorValue is deprecated. Please use tf.compat.v1.ragged.RaggedTensorValue instead.\n",
      "\n",
      "WARNING:tensorflow:From C:\\Users\\WAJI\\AppData\\Local\\Programs\\Python\\Python312\\Lib\\site-packages\\tf_keras\\src\\engine\\base_layer_utils.py:384: The name tf.executing_eagerly_outside_functions is deprecated. Please use tf.compat.v1.executing_eagerly_outside_functions instead.\n",
      "\n",
      "809/809 [==============================] - 863s 1s/step - loss: 0.7869 - accuracy: 0.7689 - val_loss: 0.4049 - val_accuracy: 0.8815\n",
      "Epoch 2/3\n",
      "809/809 [==============================] - 842s 1s/step - loss: 0.3522 - accuracy: 0.8946 - val_loss: 0.3399 - val_accuracy: 0.9013\n",
      "Epoch 3/3\n",
      "809/809 [==============================] - 859s 1s/step - loss: 0.2670 - accuracy: 0.9172 - val_loss: 0.2926 - val_accuracy: 0.9156\n"
     ]
    }
   ],
   "source": [
    "history = model.fit(\n",
    "    train_dataset,\n",
    "    validation_data = val_dataset,\n",
    "    epochs = 3\n",
    ")\n",
    "\n",
    "\n",
    "#Here, i started with 3 epochs since i am not training the model from scratch, DistilBert is already and intelligent reader"
   ]
  },
  {
   "cell_type": "code",
   "execution_count": null,
   "id": "e5ecc692-004d-4edd-8877-a188b93550e3",
   "metadata": {},
   "outputs": [],
   "source": [
    "\n",
    "\n"
   ]
  },
  {
   "cell_type": "code",
   "execution_count": null,
   "id": "2cff611c-59c3-4eda-bf4c-6fd66191f385",
   "metadata": {},
   "outputs": [],
   "source": [
    "PLOTTING TO TELL THE VISUAL STORY"
   ]
  },
  {
   "cell_type": "code",
   "execution_count": 18,
   "id": "37cebf4d-8572-48a7-bf94-5a6f4bf315e0",
   "metadata": {},
   "outputs": [
    {
     "data": {
      "image/png": "[encoded data removed]",
      "text/plain": [
       "<Figure size 640x480 with 1 Axes>"
      ]
     },
     "metadata": {},
     "output_type": "display_data"
    },
    {
     "data": {
      "image/png": "[encoded data removed]",
      "text/plain": [
       "<Figure size 640x480 with 1 Axes>"
      ]
     },
     "metadata": {},
     "output_type": "display_data"
    }
   ],
   "source": [
    "#Accuracy\n",
    "plt.plot(history.history[\"accuracy\"], label = \"Train Accuracy\")\n",
    "plt.plot(history.history[\"val_accuracy\"], label = \"Validation Accuracy\")\n",
    "plt.title(\"Model Accuracy\")\n",
    "plt.legend()\n",
    "plt.show()\n",
    "\n",
    "\n",
    "#Loss\n",
    "plt.plot(history.history[\"loss\"], label = \"Training Loss\")\n",
    "plt.plot(history.history[\"val_loss\"], label = \"Validation Loss\")\n",
    "plt.title(\"Model Loss\")\n",
    "plt.legend()\n",
    "plt.show()"
   ]
  },
  {
   "cell_type": "markdown",
   "id": "b3908bf4-0e9e-498c-9eb7-972a0e51648d",
   "metadata": {},
   "source": [
    "\n",
    "INTERPRETATION OF OLD TRAINING (DELETED BY MISTAKE)\n",
    "\n",
    "My training performance kept going up\n",
    "MY validation was increasing too but not as fast as traning accuracy\n",
    "\n",
    "NB: I usually want the space between both Training and Validation to be close, which indicates that my model is learning from the data and also my\n",
    "validation is staying very close to it\n",
    "\n",
    "If i had trained longer, maybe using more epochs, the space between both lines would have gotten wider, which would indicate my model\n",
    "was just memorizing and not learning general patterns\n",
    "\n",
    "My validation accuracy peaked and stopped at 80% accuracy, thats a very good performance. But considering the nature of MAMA and what its real-life performance is going to be, what if it misunderstands 1 out of 5 things information passed to it? This might not really be a good thing especially working with children\n",
    "\n",
    "(###I MISTAKENLY DELETED THE FORMER TRAINING)\n",
    "\n",
    "\n",
    "\n",
    "\n"
   ]
  },
  {
   "cell_type": "code",
   "execution_count": null,
   "id": "90d676ba-142a-4046-9c74-0c3967d35e23",
   "metadata": {},
   "outputs": [],
   "source": []
  },
  {
   "cell_type": "markdown",
   "id": "2bf61c00-6e55-4f20-8a05-04ef81f86fed",
   "metadata": {},
   "source": [
    "\n",
    "INTERPRETATION OF NEW TRAINING (THE ONE YOU CAN SEE NOW)\n",
    "\n",
    "More data was gathered, and then there was an increased performance for MAMA, it accounted for 91 percent accuracy which means MAMA is not memorizing data\n",
    "but very good at generalizing unseen data. 91% is a very good performance and solid for language understanding mode, so this would be kept"
   ]
  },
  {
   "cell_type": "code",
   "execution_count": null,
   "id": "9b7de31e-8faf-4d31-8a79-28c1f9acacdc",
   "metadata": {},
   "outputs": [],
   "source": [
    "\n",
    "\n"
   ]
  },
  {
   "cell_type": "markdown",
   "id": "aefffe2c-e2e3-4f0c-9c27-3d57836e7594",
   "metadata": {},
   "source": [
    "NOW I AM GOING TO SAVE MY MODEL AND TOKENIZER FOR TESTING AND DEPLOYMENT"
   ]
  },
  {
   "cell_type": "code",
   "execution_count": 87,
   "id": "89dadfa4-0d4c-4e02-9d6f-4cba39b55b18",
   "metadata": {},
   "outputs": [
    {
     "data": {
      "text/plain": [
       "('MAMA_v1_tokenizer\\\\tokenizer_config.json',\n",
       " 'MAMA_v1_tokenizer\\\\special_tokens_map.json',\n",
       " 'MAMA_v1_tokenizer\\\\vocab.txt',\n",
       " 'MAMA_v1_tokenizer\\\\added_tokens.json')"
      ]
     },
     "execution_count": 87,
     "metadata": {},
     "output_type": "execute_result"
    }
   ],
   "source": [
    "model_path = \"MAMA_v1_distilbert_model\"\n",
    "tokenizer_path = \"MAMA_v1_tokenizer\"\n",
    "\n",
    "model.save_pretrained(model_path)\n",
    "tokenizer.save_pretrained(tokenizer_path)"
   ]
  },
  {
   "cell_type": "code",
   "execution_count": 19,
   "id": "092a922a-8a65-4979-afa5-9e0a656bcf93",
   "metadata": {},
   "outputs": [],
   "source": [
    "from transformers import TFDistilBertForSequenceClassification, DistilBertTokenizer\n",
    "import tensorflow as tf\n",
    "import pandas as pd\n",
    "import numpy as np"
   ]
  },
  {
   "cell_type": "code",
   "execution_count": 20,
   "id": "24a2df7e-55fb-4559-b691-d9546d328f56",
   "metadata": {},
   "outputs": [
    {
     "name": "stderr",
     "output_type": "stream",
     "text": [
      "Some layers from the model checkpoint at MAMA_v1_distilbert_model were not used when initializing TFDistilBertForSequenceClassification: ['dropout_99']\n",
      "- This IS expected if you are initializing TFDistilBertForSequenceClassification from the checkpoint of a model trained on another task or with another architecture (e.g. initializing a BertForSequenceClassification model from a BertForPreTraining model).\n",
      "- This IS NOT expected if you are initializing TFDistilBertForSequenceClassification from the checkpoint of a model that you expect to be exactly identical (initializing a BertForSequenceClassification model from a BertForSequenceClassification model).\n",
      "Some layers of TFDistilBertForSequenceClassification were not initialized from the model checkpoint at MAMA_v1_distilbert_model and are newly initialized: ['dropout_39']\n",
      "You should probably TRAIN this model on a down-stream task to be able to use it for predictions and inference.\n"
     ]
    }
   ],
   "source": [
    "model = TFDistilBertForSequenceClassification.from_pretrained(\"MAMA_v1_distilbert_model\")\n",
    "tokenizer = DistilBertTokenizer.from_pretrained(\"MAMA_v1_tokenizer\")"
   ]
  },
  {
   "cell_type": "code",
   "execution_count": 21,
   "id": "03432be0-4b00-4396-8ee5-6a5a7df85f6e",
   "metadata": {},
   "outputs": [],
   "source": [
    "def predict_intent(text):\n",
    "    # Tokenize input text\n",
    "    inputs = tokenizer(text, return_tensors=\"tf\", truncation=True, padding=True, max_length=64)\n",
    "\n",
    "    # Run through model\n",
    "    outputs = model(inputs)\n",
    "    logits = outputs.logits\n",
    "\n",
    "    # Pick highest score\n",
    "    predicted_label = tf.argmax(logits, axis=1).numpy()[0]\n",
    "\n",
    "    # Translate integer back to intent name\n",
    "    intent_name = id2label[predicted_label]\n",
    "    \n",
    "    return intent_name\n",
    "\n",
    "\n"
   ]
  },
  {
   "cell_type": "code",
   "execution_count": null,
   "id": "b284a59c-a3b8-4825-b560-598a25d27605",
   "metadata": {},
   "outputs": [
    {
     "name": "stdin",
     "output_type": "stream",
     "text": [
      "👶 What does the toddler say? (or type 'exit' to stop):  I am so happy today\n"
     ]
    },
    {
     "name": "stdout",
     "output_type": "stream",
     "text": [
      "🤖 MAMA thinks the intent is: **Emotion**\n",
      "\n"
     ]
    },
    {
     "name": "stdin",
     "output_type": "stream",
     "text": [
      "👶 What does the toddler say? (or type 'exit' to stop):  I am so excited to be here\n"
     ]
    },
    {
     "name": "stdout",
     "output_type": "stream",
     "text": [
      "🤖 MAMA thinks the intent is: **Refusal**\n",
      "\n"
     ]
    },
    {
     "name": "stdin",
     "output_type": "stream",
     "text": [
      "👶 What does the toddler say? (or type 'exit' to stop):  Yay Daddy\n"
     ]
    },
    {
     "name": "stdout",
     "output_type": "stream",
     "text": [
      "🤖 MAMA thinks the intent is: **Refusal**\n",
      "\n"
     ]
    },
    {
     "name": "stdin",
     "output_type": "stream",
     "text": [
      "👶 What does the toddler say? (or type 'exit' to stop):  I dont want to do this\n"
     ]
    },
    {
     "name": "stdout",
     "output_type": "stream",
     "text": [
      "🤖 MAMA thinks the intent is: **Question**\n",
      "\n"
     ]
    },
    {
     "name": "stdin",
     "output_type": "stream",
     "text": [
      "👶 What does the toddler say? (or type 'exit' to stop):  Ask me any question of your choice\n"
     ]
    },
    {
     "name": "stdout",
     "output_type": "stream",
     "text": [
      "🤖 MAMA thinks the intent is: **Command**\n",
      "\n"
     ]
    },
    {
     "name": "stdin",
     "output_type": "stream",
     "text": [
      "👶 What does the toddler say? (or type 'exit' to stop):  Thanks for gifting me this\n"
     ]
    },
    {
     "name": "stdout",
     "output_type": "stream",
     "text": [
      "🤖 MAMA thinks the intent is: **Possession**\n",
      "\n"
     ]
    },
    {
     "name": "stdin",
     "output_type": "stream",
     "text": [
      "👶 What does the toddler say? (or type 'exit' to stop):  Thanks sir\n"
     ]
    },
    {
     "name": "stdout",
     "output_type": "stream",
     "text": [
      "🤖 MAMA thinks the intent is: **Possession**\n",
      "\n"
     ]
    },
    {
     "name": "stdin",
     "output_type": "stream",
     "text": [
      "👶 What does the toddler say? (or type 'exit' to stop):  I need to leave\n"
     ]
    },
    {
     "name": "stdout",
     "output_type": "stream",
     "text": [
      "🤖 MAMA thinks the intent is: **Attention**\n",
      "\n"
     ]
    }
   ],
   "source": [
    "while True:\n",
    "    user_input = input(\"👶 What does the toddler say? (or type 'exit' to stop): \")\n",
    "    if user_input.lower() == \"exit\":\n",
    "        break\n",
    "    intent = predict_intent(user_input)\n",
    "    print(f\"🤖 MAMA thinks the intent is: **{intent}**\\n\")\n"
   ]
  },
  {
   "cell_type": "code",
   "execution_count": null,
   "id": "a8bea7db-4da5-4196-9134-9f07517116f3",
   "metadata": {},
   "outputs": [],
   "source": [
    "\n",
    "NOW THERE IS A PROBLEM.\n",
    "From what i can see from the training, my model trained well and the validation accuracy was on point which is 91%. Thats actually a very good score\n",
    "for NLP project. \n",
    "Then testing my model with an input, it mislabelled the inputs even though it had good generalization during training.\n",
    "\n",
    "I cant think of anything at the moment besides my \"Dataset\". Could my data be the reason why real-life inputs were so off ?.\n",
    "I am going to do some further research and see what can be done.\n",
    "\n"
   ]
  },
  {
   "cell_type": "code",
   "execution_count": null,
   "id": "ed38cbbc-3b49-4eaf-8eb5-62e6957f46a2",
   "metadata": {},
   "outputs": [],
   "source": [
    "\n",
    "\n"
   ]
  }
 ],
 "metadata": {
  "kernelspec": {
   "display_name": "Python 3 (ipykernel)",
   "language": "python",
   "name": "python3"
  },
  "language_info": {
   "codemirror_mode": {
    "name": "ipython",
    "version": 3
   },
   "file_extension": ".py",
   "mimetype": "text/x-python",
   "name": "python",
   "nbconvert_exporter": "python",
   "pygments_lexer": "ipython3",
   "version": "3.12.3"
  }
 },
 "nbformat": 4,
 "nbformat_minor": 5
}
